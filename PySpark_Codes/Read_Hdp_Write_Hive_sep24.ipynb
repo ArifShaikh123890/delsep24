{
 "cells": [
  {
   "cell_type": "code",
   "execution_count": 1,
   "metadata": {},
   "outputs": [],
   "source": [
    "import findspark\n",
    "findspark.init('/usr/local/spark/')"
   ]
  },
  {
   "cell_type": "code",
   "execution_count": 2,
   "metadata": {},
   "outputs": [],
   "source": [
    "from pyspark.sql import SparkSession"
   ]
  },
  {
   "cell_type": "code",
   "execution_count": 3,
   "metadata": {},
   "outputs": [],
   "source": [
    "from pyspark.sql.types import StructType, StructField, IntegerType, StringType, DoubleType\n",
    "from pyspark.sql.functions import col"
   ]
  },
  {
   "cell_type": "code",
   "execution_count": 4,
   "metadata": {},
   "outputs": [],
   "source": [
    "spark = SparkSession.builder\\\n",
    "            .appName('Read Hdp Write Hive').master('local[*]')\\\n",
    "            .enableHiveSupport()\\\n",
    "            .getOrCreate()"
   ]
  },
  {
   "cell_type": "code",
   "execution_count": 6,
   "metadata": {},
   "outputs": [],
   "source": [
    "txnSchema = StructType([\n",
    "                        StructField('txnno', IntegerType()),\n",
    "                        StructField('txndate', StringType()),\n",
    "                        StructField('custno', IntegerType()),\n",
    "                        StructField('amount', DoubleType()),\n",
    "                        StructField('category', StringType()),\n",
    "                        StructField('product', StringType()),\n",
    "                        StructField('city', StringType()),\n",
    "                        StructField('state', StringType()),\n",
    "                        StructField('spendby', StringType())\n",
    "                        ])"
   ]
  },
  {
   "cell_type": "code",
   "execution_count": 7,
   "metadata": {},
   "outputs": [
    {
     "name": "stdout",
     "output_type": "stream",
     "text": [
      "+-----+----------+-------+------+------------------+---------------------------------+-----------+----------+-------+\n",
      "|txnno|txndate   |custno |amount|category          |product                          |city       |state     |spendby|\n",
      "+-----+----------+-------+------+------------------+---------------------------------+-----------+----------+-------+\n",
      "|0    |06-26-2011|4007024|40.33 |Exercise & Fitness|Cardio Machine Accessories       |Clarksville|Tennessee |credit |\n",
      "|1    |05-26-2011|4006742|198.44|Exercise & Fitness|Weightlifting Gloves             |Long Beach |California|credit |\n",
      "|2    |06-01-2011|4009775|5.58  |Exercise & Fitness|Weightlifting Machine Accessories|Anaheim    |California|credit |\n",
      "|3    |06-05-2011|4002199|198.19|Gymnastics        |Gymnastics Rings                 |Milwaukee  |Wisconsin |credit |\n",
      "|4    |12-17-2011|4002613|98.81 |Team Sports       |Field Hockey                     |Nashville  |Tennessee |credit |\n",
      "+-----+----------+-------+------+------------------+---------------------------------+-----------+----------+-------+\n",
      "only showing top 5 rows\n",
      "\n"
     ]
    }
   ],
   "source": [
    "ustxnDf = spark.read.format('csv')\\\n",
    "                .option('header','true')\\\n",
    "                .schema(txnSchema) \\\n",
    "                .load('hdfs://localhost:54310/user/hduser/HFS/Input/us_txns')\n",
    "ustxnDf.show(5, truncate=False)"
   ]
  },
  {
   "cell_type": "code",
   "execution_count": 8,
   "metadata": {},
   "outputs": [
    {
     "name": "stdout",
     "output_type": "stream",
     "text": [
      "root\n",
      " |-- txnno: integer (nullable = true)\n",
      " |-- txndate: string (nullable = true)\n",
      " |-- custno: integer (nullable = true)\n",
      " |-- amount: double (nullable = true)\n",
      " |-- category: string (nullable = true)\n",
      " |-- product: string (nullable = true)\n",
      " |-- city: string (nullable = true)\n",
      " |-- state: string (nullable = true)\n",
      " |-- spendby: string (nullable = true)\n",
      "\n"
     ]
    }
   ],
   "source": [
    "# Before Imposing Schema:\n",
    "ustxnDf.printSchema()"
   ]
  },
  {
   "cell_type": "code",
   "execution_count": 9,
   "metadata": {},
   "outputs": [
    {
     "name": "stdout",
     "output_type": "stream",
     "text": [
      "root\n",
      " |-- txnno: integer (nullable = true)\n",
      " |-- txndate: string (nullable = true)\n",
      " |-- custno: integer (nullable = true)\n",
      " |-- amount: double (nullable = true)\n",
      " |-- category: string (nullable = true)\n",
      " |-- product: string (nullable = true)\n",
      " |-- city: string (nullable = true)\n",
      " |-- state: string (nullable = true)\n",
      " |-- spendby: string (nullable = true)\n",
      "\n"
     ]
    }
   ],
   "source": [
    "# After Imposing Schema:\n",
    "ustxnDf.printSchema()"
   ]
  },
  {
   "cell_type": "markdown",
   "metadata": {},
   "source": [
    "# Filter Condition: Exercise & Fitness and Clarksville"
   ]
  },
  {
   "cell_type": "code",
   "execution_count": 11,
   "metadata": {},
   "outputs": [
    {
     "name": "stdout",
     "output_type": "stream",
     "text": [
      "+-----+----------+-------+------+------------------+--------------------+-----------+---------+-------+\n",
      "|txnno|   txndate| custno|amount|          category|             product|       city|    state|spendby|\n",
      "+-----+----------+-------+------+------------------+--------------------+-----------+---------+-------+\n",
      "|    0|06-26-2011|4007024| 40.33|Exercise & Fitness|Cardio Machine Ac...|Clarksville|Tennessee| credit|\n",
      "|   84|05-31-2011|4000293| 49.97|Exercise & Fitness|         Stopwatches|Clarksville|Tennessee|   cash|\n",
      "|  907|08-02-2011|4000899|141.76|Exercise & Fitness|      Yoga & Pilates|Clarksville|Tennessee| credit|\n",
      "| 1729|05-07-2011|4009949|104.96|Exercise & Fitness|        Free Weights|Clarksville|Tennessee| credit|\n",
      "| 3486|08-14-2011|4003437|  75.3|Exercise & Fitness|Weightlifting Mac...|Clarksville|Tennessee| credit|\n",
      "| 3895|06-27-2011|4005463|156.13|Exercise & Fitness|      Exercise Bands|Clarksville|Tennessee| credit|\n",
      "| 4576|12-11-2011|4003900|170.73|Exercise & Fitness|      Yoga & Pilates|Clarksville|Tennessee| credit|\n",
      "| 4754|01-20-2011|4004329| 49.64|Exercise & Fitness|Weightlifting Mac...|Clarksville|Tennessee|   cash|\n",
      "| 4940|02-08-2011|4004246| 172.0|Exercise & Fitness|          Jump Ropes|Clarksville|Tennessee| credit|\n",
      "| 6068|06-24-2011|4008357|  61.2|Exercise & Fitness|Cardio Machine Ac...|Clarksville|Tennessee| credit|\n",
      "| 7670|12-21-2011|4000720| 53.22|Exercise & Fitness|            Gym Mats|Clarksville|Tennessee| credit|\n",
      "| 8053|04-28-2011|4000918|190.74|Exercise & Fitness| Abdominal Equipment|Clarksville|Tennessee| credit|\n",
      "| 8743|10-15-2011|4008978|198.71|Exercise & Fitness|    Free Weight Bars|Clarksville|Tennessee| credit|\n",
      "| 9777|07-28-2011|4007493| 74.01|Exercise & Fitness|    Free Weight Bars|Clarksville|Tennessee| credit|\n",
      "|10086|01-10-2011|4008516| 62.32|Exercise & Fitness| Weightlifting Belts|Clarksville|Tennessee| credit|\n",
      "|10231|05-26-2011|4002060| 78.82|Exercise & Fitness|Weightlifting Mac...|Clarksville|Tennessee| credit|\n",
      "|10807|09-06-2011|4000926|174.19|Exercise & Fitness|      Yoga & Pilates|Clarksville|Tennessee| credit|\n",
      "|15330|11-25-2011|4007025|112.72|Exercise & Fitness|         Stopwatches|Clarksville|Tennessee| credit|\n",
      "|15464|02-01-2011|4007637|126.07|Exercise & Fitness|Weightlifting Gloves|Clarksville|Tennessee| credit|\n",
      "|16084|11-20-2011|4003615| 72.78|Exercise & Fitness| Abdominal Equipment|Clarksville|Tennessee| credit|\n",
      "+-----+----------+-------+------+------------------+--------------------+-----------+---------+-------+\n",
      "only showing top 20 rows\n",
      "\n"
     ]
    }
   ],
   "source": [
    "# DSL:\n",
    "# filCredFitnessDf = ustxnDf.filter((col('category') == 'Exercise & Fitness') &\n",
    "#                                     (col('city') == 'Clarksville'))\n",
    "# filCredFitnessDf.show(5)\n",
    "\n",
    "# Spark SQL:\n",
    "ustxnDf.createOrReplaceTempView('txn')\n",
    "resDf = spark.sql(\"\"\"select * from txn \n",
    "                        where category = 'Exercise & Fitness'\n",
    "                        and city = 'Clarksville'\n",
    "                \"\"\")\n",
    "resDf.show()"
   ]
  },
  {
   "cell_type": "code",
   "execution_count": 5,
   "metadata": {},
   "outputs": [
    {
     "name": "stdout",
     "output_type": "stream",
     "text": [
      "+------------+\n",
      "|databaseName|\n",
      "+------------+\n",
      "|     default|\n",
      "|     saif_db|\n",
      "+------------+\n",
      "\n"
     ]
    }
   ],
   "source": [
    "spark.sql('show databases').show()"
   ]
  },
  {
   "cell_type": "code",
   "execution_count": 15,
   "metadata": {},
   "outputs": [
    {
     "name": "stdout",
     "output_type": "stream",
     "text": [
      "+--------+--------------------+-----------+\n",
      "|database|           tableName|isTemporary|\n",
      "+--------+--------------------+-----------+\n",
      "| saif_db|             emp_mgd|      false|\n",
      "| saif_db|partition_emp_static|      false|\n",
      "| saif_db|partition_emp_sta...|      false|\n",
      "|        |                 txn|       true|\n",
      "+--------+--------------------+-----------+\n",
      "\n"
     ]
    }
   ],
   "source": [
    "spark.sql('use saif_db')\n",
    "spark.sql('show tables').show()"
   ]
  },
  {
   "cell_type": "code",
   "execution_count": 16,
   "metadata": {},
   "outputs": [],
   "source": [
    "resDf.write.format('csv').saveAsTable('saif_db.txnTbl')"
   ]
  },
  {
   "cell_type": "code",
   "execution_count": 17,
   "metadata": {},
   "outputs": [
    {
     "name": "stdout",
     "output_type": "stream",
     "text": [
      "+--------+--------------------+-----------+\n",
      "|database|           tableName|isTemporary|\n",
      "+--------+--------------------+-----------+\n",
      "| saif_db|             emp_mgd|      false|\n",
      "| saif_db|partition_emp_static|      false|\n",
      "| saif_db|partition_emp_sta...|      false|\n",
      "| saif_db|              txntbl|      false|\n",
      "|        |                 txn|       true|\n",
      "+--------+--------------------+-----------+\n",
      "\n"
     ]
    }
   ],
   "source": [
    "spark.sql('show tables').show()"
   ]
  },
  {
   "cell_type": "code",
   "execution_count": 18,
   "metadata": {},
   "outputs": [
    {
     "name": "stdout",
     "output_type": "stream",
     "text": [
      "+-----+----------+-------+------+------------------+--------------------+-----------+---------+-------+\n",
      "|txnno|   txndate| custno|amount|          category|             product|       city|    state|spendby|\n",
      "+-----+----------+-------+------+------------------+--------------------+-----------+---------+-------+\n",
      "|    0|06-26-2011|4007024| 40.33|Exercise & Fitness|Cardio Machine Ac...|Clarksville|Tennessee| credit|\n",
      "|   84|05-31-2011|4000293| 49.97|Exercise & Fitness|         Stopwatches|Clarksville|Tennessee|   cash|\n",
      "|  907|08-02-2011|4000899|141.76|Exercise & Fitness|      Yoga & Pilates|Clarksville|Tennessee| credit|\n",
      "| 1729|05-07-2011|4009949|104.96|Exercise & Fitness|        Free Weights|Clarksville|Tennessee| credit|\n",
      "| 3486|08-14-2011|4003437|  75.3|Exercise & Fitness|Weightlifting Mac...|Clarksville|Tennessee| credit|\n",
      "+-----+----------+-------+------+------------------+--------------------+-----------+---------+-------+\n",
      "only showing top 5 rows\n",
      "\n"
     ]
    }
   ],
   "source": [
    "spark.sql('select * from txntbl').show(5)"
   ]
  },
  {
   "cell_type": "code",
   "execution_count": null,
   "metadata": {},
   "outputs": [],
   "source": []
  }
 ],
 "metadata": {
  "kernelspec": {
   "display_name": "Python 3",
   "language": "python",
   "name": "python3"
  },
  "language_info": {
   "codemirror_mode": {
    "name": "ipython",
    "version": 3
   },
   "file_extension": ".py",
   "mimetype": "text/x-python",
   "name": "python",
   "nbconvert_exporter": "python",
   "pygments_lexer": "ipython3",
   "version": "3.5.2"
  }
 },
 "nbformat": 4,
 "nbformat_minor": 2
}
