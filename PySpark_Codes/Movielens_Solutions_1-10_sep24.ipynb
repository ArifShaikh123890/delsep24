{
 "cells": [
  {
   "cell_type": "code",
   "execution_count": 1,
   "metadata": {},
   "outputs": [],
   "source": [
    "import findspark\n",
    "findspark.init('/usr/local/spark/')"
   ]
  },
  {
   "cell_type": "code",
   "execution_count": 2,
   "metadata": {},
   "outputs": [],
   "source": [
    "from pyspark.sql import SparkSession"
   ]
  },
  {
   "cell_type": "code",
   "execution_count": 3,
   "metadata": {},
   "outputs": [],
   "source": [
    "spark = SparkSession.builder.appName('Solution-1').master('local[*]').getOrCreate()"
   ]
  },
  {
   "cell_type": "code",
   "execution_count": 4,
   "metadata": {},
   "outputs": [
    {
     "name": "stdout",
     "output_type": "stream",
     "text": [
      "+------+-------+------+---------+\n",
      "|userId|movieId|rating|timestamp|\n",
      "+------+-------+------+---------+\n",
      "|     1|      1|   4.0|964982703|\n",
      "|     1|      3|   4.0|964981247|\n",
      "|     1|      6|   4.0|964982224|\n",
      "|     1|     47|   5.0|964983815|\n",
      "|     1|     50|   5.0|964982931|\n",
      "+------+-------+------+---------+\n",
      "only showing top 5 rows\n",
      "\n"
     ]
    }
   ],
   "source": [
    "ratingsDf = spark.read.format('csv')\\\n",
    "                .option('header','true')\\\n",
    "                .option('inferSchema','true')\\\n",
    "                .load('hdfs://localhost:54310/user/hduser/HFS/Input/ratings.csv')\n",
    "ratingsDf.show(5)"
   ]
  },
  {
   "cell_type": "code",
   "execution_count": 19,
   "metadata": {},
   "outputs": [],
   "source": [
    "from pyspark.sql.functions import count, col, sum"
   ]
  },
  {
   "cell_type": "code",
   "execution_count": 15,
   "metadata": {},
   "outputs": [
    {
     "name": "stdout",
     "output_type": "stream",
     "text": [
      "+------+-----------+\n",
      "|rating|TotalRating|\n",
      "+------+-----------+\n",
      "|   5.0|      13211|\n",
      "|   4.5|       8551|\n",
      "|   4.0|      26818|\n",
      "|   3.5|      13136|\n",
      "|   3.0|      20047|\n",
      "+------+-----------+\n",
      "only showing top 5 rows\n",
      "\n"
     ]
    }
   ],
   "source": [
    "ratingsDfCnt = ratingsDf.groupBy('rating')\\\n",
    "                        .agg(count('rating').alias('TotalRating'))\\\n",
    "                        .orderBy(col('rating').desc())\n",
    "ratingsDfCnt.show(5)"
   ]
  },
  {
   "cell_type": "code",
   "execution_count": null,
   "metadata": {},
   "outputs": [],
   "source": [
    "+-------+-----------+-------------+\n",
    "|movieId|Sum_Ratings|Count_Ratings|\n",
    "+-------+-----------+-------------+\n",
    "|99992  |3.0        |1            |\n",
    "|99917  |9.5        |3            |\n",
    "|99910  |6.5        |2            |\n",
    "|999    |36.5       |12           |\n",
    "|99853  |4.0        |1            |\n",
    "+-------+-----------+-------------+"
   ]
  },
  {
   "cell_type": "code",
   "execution_count": 29,
   "metadata": {},
   "outputs": [
    {
     "name": "stdout",
     "output_type": "stream",
     "text": [
      "+-------+-----------+-------------+\n",
      "|movieId|Sum_Ratings|Count_Ratings|\n",
      "+-------+-----------+-------------+\n",
      "|   1580|      575.5|          165|\n",
      "|   2366|       91.0|           25|\n",
      "|   3175|      268.5|           75|\n",
      "|   1088|      141.5|           42|\n",
      "|  32460|       17.0|            4|\n",
      "+-------+-----------+-------------+\n",
      "only showing top 5 rows\n",
      "\n"
     ]
    }
   ],
   "source": [
    "solu2 = ratingsDf.groupBy('movieId')\\\n",
    "                .agg(sum('rating').alias('Sum_Ratings'),\n",
    "                    count('rating').alias('Count_Ratings'))\n",
    "# solu2.filter(col('movieId') == '99992').show(5)\n",
    "solu2.show(5)"
   ]
  },
  {
   "cell_type": "code",
   "execution_count": 26,
   "metadata": {},
   "outputs": [
    {
     "name": "stdout",
     "output_type": "stream",
     "text": [
      "+-------+-----------+-------------+\n",
      "|movieId|Sum_ratings|Count_ratings|\n",
      "+-------+-----------+-------------+\n",
      "|  99992|        3.0|            1|\n",
      "|  99917|        9.5|            3|\n",
      "|  99910|        6.5|            2|\n",
      "|    999|       36.5|           12|\n",
      "|  99853|        4.0|            1|\n",
      "+-------+-----------+-------------+\n",
      "only showing top 5 rows\n",
      "\n"
     ]
    }
   ],
   "source": [
    "#Cast\n",
    "ratingsDf.groupBy(\"movieId\")\\\n",
    "        .agg(sum(\"rating\").alias(\"Sum_ratings\")\\\n",
    "            ,count(\"rating\").alias(\"Count_ratings\"))\\\n",
    "        .orderBy(col('movieId').cast('string').desc()).show(5)"
   ]
  },
  {
   "cell_type": "code",
   "execution_count": null,
   "metadata": {},
   "outputs": [],
   "source": []
  }
 ],
 "metadata": {
  "kernelspec": {
   "display_name": "Python 3",
   "language": "python",
   "name": "python3"
  },
  "language_info": {
   "codemirror_mode": {
    "name": "ipython",
    "version": 3
   },
   "file_extension": ".py",
   "mimetype": "text/x-python",
   "name": "python",
   "nbconvert_exporter": "python",
   "pygments_lexer": "ipython3",
   "version": "3.5.2"
  }
 },
 "nbformat": 4,
 "nbformat_minor": 2
}
